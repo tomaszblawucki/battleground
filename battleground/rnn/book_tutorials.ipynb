{
 "cells": [
  {
   "cell_type": "code",
   "execution_count": 15,
   "metadata": {},
   "outputs": [],
   "source": [
    "import tensorflow as tf\n",
    "import numpy as np"
   ]
  },
  {
   "cell_type": "code",
   "execution_count": 16,
   "metadata": {},
   "outputs": [
    {
     "name": "stdout",
     "output_type": "stream",
     "text": [
      "[[-0.4621275   0.99019426  0.99393827 -0.16810046 -0.9741581 ]\n",
      " [-0.89096606  0.99999994  0.9998044  -0.750714   -0.99577546]\n",
      " [-0.98208636  1.          0.9999937  -0.94463784 -0.9993157 ]\n",
      " [-0.4469795   0.99984026 -1.         -0.9999972   1.        ]]\n",
      "[[-0.51039326  1.          0.99421346 -0.9937782  -0.95482427]\n",
      " [ 0.9450379   0.90510184  0.95794535 -0.21349257 -0.8384108 ]\n",
      " [ 0.38113478  1.          0.9940177  -0.9078136  -0.6877402 ]\n",
      " [ 0.29393965  0.9565572   0.9605589   0.55280244  0.3217394 ]]\n"
     ]
    }
   ],
   "source": [
    "n_inputs = 3\n",
    "n_neurons = 5\n",
    "#                                ROWS  FEATURES \n",
    "X0 = tf.placeholder(tf.float32, [None, n_inputs])\n",
    "X1 = tf.placeholder(tf.float32, [None, n_inputs])\n",
    "\n",
    "Wx = tf.Variable(tf.random_normal(shape=[n_inputs, n_neurons], dtype=tf.float32))\n",
    "Wy = tf.Variable(tf.random_normal(shape=[n_neurons, n_neurons], dtype=tf.float32))\n",
    "\n",
    "b = tf.Variable(tf.zeros([1, n_neurons]))\n",
    "\n",
    "Y0 = tf.tanh(tf.matmul(X0, Wx) + b)\n",
    "Y1 = tf.tanh(tf.matmul(Y0, Wy) + tf.matmul(X1, Wx) + b)\n",
    "\n",
    "init = tf.global_variables_initializer()\n",
    "\n",
    "\n",
    "X0_batch = np.array([[0,1,2],[3,4,5],[6,7,8],[9,0,1]]) # t = 0\n",
    "X1_batch = np.array([[9,8,7],[0,0,0],[6,5,4],[3,2,1]]) # t = 1\n",
    "\n",
    "\n",
    "with tf.Session() as sess:\n",
    "    init.run()\n",
    "    Y0_val, Y1_val = sess.run([Y0, Y1], feed_dict={X0:X0_batch, X1:X1_batch})\n",
    "    \n",
    "print(Y0_val)\n",
    "print(Y1_val)"
   ]
  },
  {
   "cell_type": "code",
   "execution_count": 20,
   "metadata": {},
   "outputs": [
    {
     "name": "stdout",
     "output_type": "stream",
     "text": [
      "[[ 0.27309662  0.27397233 -0.03838524 -0.34390745 -0.337415  ]\n",
      " [-0.34945273 -0.60092264 -0.2456865  -0.98069733  0.5609472 ]\n",
      " [-0.76569897 -0.9315958  -0.432713   -0.999611    0.92456627]\n",
      " [ 0.07165036 -0.99861604  0.13814802 -0.93735474  0.8447625 ]] \n",
      " [[-0.98769724 -0.99783695 -0.6756848  -0.9999431   0.9972622 ]\n",
      " [-0.4179167   0.39433694  0.8251724   0.20969756  0.357178  ]\n",
      " [-0.9680483  -0.9226516   0.87026864 -0.9979022   0.9914147 ]\n",
      " [-0.5943253  -0.55875236  0.7661928  -0.9214663   0.9641249 ]]\n"
     ]
    }
   ],
   "source": [
    "tf.reset_default_graph()\n",
    "\n",
    "n_inputs = 3\n",
    "n_neurons = 5\n",
    "\n",
    "X0 = tf.placeholder(tf.float32, [None, n_inputs])\n",
    "X1 = tf.placeholder(tf.float32, [None, n_inputs])\n",
    "\n",
    "X0_batch = np.array([[0,1,2],[3,4,5],[6,7,8],[9,0,1]]) # t = 0\n",
    "X1_batch = np.array([[9,8,7],[0,0,0],[6,5,4],[3,2,1]]) # t = 1\n",
    "\n",
    "\n",
    "# NEW\n",
    "basic_cell = tf.contrib.rnn.BasicRNNCell(num_units = n_neurons)\n",
    "output_seqs, states = tf.contrib.rnn.static_rnn(basic_cell, \n",
    "                                                [X0, X1], \n",
    "                                                dtype=tf.float32)\n",
    "Y0, Y1 = output_seqs\n",
    "#\n",
    "\n",
    "init = tf.global_variables_initializer()\n",
    "\n",
    "with tf.Session() as sess:\n",
    "    init.run()\n",
    "    Y0_res, Y1_res = sess.run([Y0, Y1], feed_dict={X0:X0_batch, X1:X1_batch})\n",
    "\n",
    "print(Y0_res,'\\n', Y1_res)\n",
    "    "
   ]
  },
  {
   "cell_type": "code",
   "execution_count": 39,
   "metadata": {},
   "outputs": [
    {
     "name": "stdout",
     "output_type": "stream",
     "text": [
      "[[[-0.21533237  0.8727285  -0.61737883  0.24111131 -0.73497665]\n",
      "  [-0.22908157  0.99995905 -0.97887325  0.30840403  0.9422193 ]]\n",
      "\n",
      " [[-0.29368347  0.99891543 -0.95577234  0.48242706 -0.6401998 ]\n",
      "  [-0.06015785 -0.4573911   0.5481148  -0.37309408  0.37851453]]\n",
      "\n",
      " [[-0.3682777   0.99999136 -0.99568594  0.66756177 -0.5208888 ]\n",
      "  [ 0.11694624  0.9958281  -0.79027736 -0.12894602  0.9455721 ]]\n",
      "\n",
      " [[ 0.99893355 -0.78009     0.7999048   0.9059533   0.99979305]\n",
      "  [ 0.72375476  0.93463176 -0.95335525  0.40686134  0.80762357]]]\n"
     ]
    }
   ],
   "source": [
    "tf.reset_default_graph()\n",
    "\n",
    "n_neurons = 5\n",
    "n_inputs = 3\n",
    "n_steps = 2  \n",
    "\n",
    "#new\n",
    "X = tf.placeholder(tf.float32, [None, n_steps, n_inputs])\n",
    "\n",
    "X_seqs = tf.unstack(tf.transpose(X, perm=[1,0,2]))\n",
    "\n",
    "basic_cell = tf.contrib.rnn.BasicRNNCell(num_units = n_neurons)\n",
    "output_seqs, states = tf.contrib.rnn.static_rnn(basic_cell, \n",
    "                                                 X_seqs, #earlier [X0, X1]... \n",
    "                                                 dtype=tf.float32)\n",
    "\n",
    "output = tf.transpose(tf.stack(output_seqs), perm=[1,0,2])\n",
    "\n",
    "init = tf.global_variables_initializer()\n",
    "\n",
    "# X_batch = np.array([\n",
    "#         # t = 0      t = 1 \n",
    "#         [[0, 1, 2], [9, 8, 7]], # próbka 1\n",
    "#         [[3, 4, 5], [0, 0, 0]], # próbka 2\n",
    "#         [[6, 7, 8], [6, 5, 4]], # próbka 3\n",
    "#         [[9, 0, 1], [3, 2, 1]], # próbka 4\n",
    "#     ])\n",
    "\n",
    "# sequences have to be same length - pad to the longest in time with zeros\n",
    "X_batch = np.array([\n",
    "        # t = 0      t = 1 \n",
    "        [[0, 1, 2], [9, 8, 7]], # próbka 1\n",
    "        [[3, 4, 5], [0, 0, 0]], # próbka 2\n",
    "        [[6, 7, 8], [6, 5, 4]], # próbka 3\n",
    "        [[9, 0, 1], [3, 2, 1]], # próbka 4\n",
    "    ])\n",
    "\n",
    "\n",
    "\n",
    "with tf.Session() as sess:\n",
    "    sess.run(init)\n",
    "    outputs_val = sess.run(output, feed_dict={X:X_batch})\n",
    "\n",
    "print(outputs_val)"
   ]
  },
  {
   "cell_type": "code",
   "execution_count": 33,
   "metadata": {},
   "outputs": [
    {
     "name": "stdout",
     "output_type": "stream",
     "text": [
      "[[[-0.71023595  0.07329487  0.8815821  -0.33744517  0.00550849]\n",
      "  [-0.60659313  0.85433555  0.9604514   0.9999663  -0.7668698 ]]\n",
      "\n",
      " [[-0.8766344   0.36907664  0.9859492   0.88636905 -0.3611181 ]\n",
      "  [ 0.5608052   0.19889209 -0.11843139  0.59844434 -0.31479818]]\n",
      "\n",
      " [[-0.950257    0.60518014  0.9984105   0.9964113  -0.6421658 ]\n",
      "  [ 0.6128228   0.7323126   0.64111805  0.99981105 -0.8779617 ]]\n",
      "\n",
      " [[ 0.9296684   0.39289638 -0.9984451   0.9996214  -0.9945635 ]\n",
      "  [ 0.86451554  0.08912306 -0.3203876   0.9808753  -0.84579855]]]\n"
     ]
    }
   ],
   "source": [
    "tf.reset_default_graph()\n",
    "\n",
    "n_neurons = 5\n",
    "n_inputs = 3\n",
    "n_steps = 2  \n",
    "\n",
    "#new\n",
    "X = tf.placeholder(tf.float32, [None, n_steps, n_inputs])\n",
    "\n",
    "\n",
    "basic_cell = tf.contrib.rnn.BasicRNNCell(num_units = n_neurons)\n",
    "outputs, states = tf.nn.dynamic_rnn(basic_cell, \n",
    "                                                 X, #earlier unstacked X \n",
    "                                                 dtype=tf.float32,\n",
    "                                                 swap_memory=True)\n",
    "\n",
    "\n",
    "init = tf.global_variables_initializer()\n",
    "\n",
    "\n",
    "X_batch = np.array([\n",
    "        # t = 0      t = 1 \n",
    "        [[0, 1, 2], [9, 8, 7]], # próbka 1\n",
    "        [[3, 4, 5], [0, 0, 0]], # próbka 2\n",
    "        [[6, 7, 8], [6, 5, 4]], # próbka 3\n",
    "        [[9, 0, 1], [3, 2, 1]], # próbka 4\n",
    "    ])\n",
    "\n",
    "\n",
    "\n",
    "with tf.Session() as sess:\n",
    "    sess.run(init)\n",
    "    outputs_val = sess.run(outputs, feed_dict={X:X_batch})\n",
    "\n",
    "print(outputs_val)"
   ]
  },
  {
   "cell_type": "code",
   "execution_count": 46,
   "metadata": {},
   "outputs": [
    {
     "name": "stdout",
     "output_type": "stream",
     "text": [
      "[[[-0.4468847   0.73098195  0.6184553   0.82631767 -0.80680156]\n",
      "  [-0.53638566  0.9999983  -0.9864757   0.9999985  -0.9999664 ]]\n",
      "\n",
      " [[-0.4972186   0.9986192   0.36040422  0.99935436 -0.9959174 ]\n",
      "  [ 0.          0.          0.          0.          0.        ]]\n",
      "\n",
      " [[-0.5444144   0.99999386  0.03218993  0.9999978  -0.99992174]\n",
      "  [-0.36950937  0.9997204  -0.98375636  0.9993262  -0.998807  ]]\n",
      "\n",
      " [[-0.92707425  0.99262714 -0.9997556   0.96766424 -0.6476023 ]\n",
      "  [ 0.26296636  0.96137667 -0.983384    0.71805733 -0.95108473]]]\n"
     ]
    }
   ],
   "source": [
    "tf.reset_default_graph()\n",
    "\n",
    "n_neurons = 5\n",
    "n_inputs = 3\n",
    "n_steps = 2  \n",
    "\n",
    "#new\n",
    "X = tf.placeholder(tf.float32, [None, n_steps, n_inputs])\n",
    "seq_len = tf.placeholder(tf.int32, [None])\n",
    "\n",
    "basic_cell = tf.contrib.rnn.BasicRNNCell(num_units = n_neurons)\n",
    "outputs, states = tf.nn.dynamic_rnn(basic_cell, \n",
    "                                   X, #earlier [X0, X1]... \n",
    "                                   dtype=tf.float32,\n",
    "                                   sequence_length = seq_len,\n",
    "                                   swap_memory=True)\n",
    "\n",
    "\n",
    "\n",
    "init = tf.global_variables_initializer()\n",
    "\n",
    "# sequences have to be same length - pad to the longest in time with zeros\n",
    "X_batch = np.array([\n",
    "        # t = 0      t = 1 \n",
    "        [[0, 1, 2], [9, 8, 7]], # próbka 1\n",
    "        [[3, 4, 5], [0, 0, 0]], # próbka 2\n",
    "        [[6, 7, 8], [6, 5, 4]], # próbka 3\n",
    "        [[9, 0, 1], [3, 2, 1]], # próbka 4\n",
    "    ])\n",
    "seq_len_batch = [2,1,2,2]\n",
    "\n",
    "\n",
    "with tf.Session() as sess:\n",
    "    sess.run(init)\n",
    "    outputs_val = sess.run(outputs, feed_dict={X:X_batch, seq_len:seq_len_batch})\n",
    "\n",
    "print(outputs_val)"
   ]
  },
  {
   "cell_type": "code",
   "execution_count": 51,
   "metadata": {},
   "outputs": [
    {
     "name": "stdout",
     "output_type": "stream",
     "text": [
      "WARNING:tensorflow:From <ipython-input-51-4fcd1d61564a>:18: dense (from tensorflow.python.layers.core) is deprecated and will be removed in a future version.\n",
      "Instructions for updating:\n",
      "Use keras.layers.dense instead.\n"
     ]
    }
   ],
   "source": [
    "#klasyfikator sekwencji\n",
    "tf.reset_default_graph()\n",
    "\n",
    "n_steps = 28\n",
    "n_inputs = 28\n",
    "n_neurons = 150\n",
    "n_outputs = 10\n",
    "learning_rate = 0.001\n",
    "\n",
    "\n",
    "# Construction phase\n",
    "\n",
    "X = tf.placeholder(tf.float32, [None, n_steps, n_inputs])\n",
    "y = tf.placeholder(tf.int32, [None])\n",
    "\n",
    "basic_cell = tf.contrib.rnn.BasicRNNCell(num_units = n_neurons)\n",
    "outputs, states = tf.nn.dynamic_rnn(basic_cell, X, dtype=tf.float32)\n",
    "logits = tf.layers.dense(states, n_outputs)\n",
    "xentropy = tf.nn.sparse_softmax_cross_entropy_with_logits(labels=y,\n",
    "                                                         logits = logits)\n",
    "loss = tf.reduce_mean(xentropy)\n",
    "optimizer = tf.train.AdamOptimizer(learning_rate=learning_rate)\n",
    "training_op = optimizer.minimize(loss)\n",
    "correct = tf.nn.in_top_k(logits, y, 1)\n",
    "accuracy =tf.reduce_mean(tf.cast(correct, tf.float32))\n",
    "\n",
    "init = tf.global_variables_initializer()\n"
   ]
  },
  {
   "cell_type": "code",
   "execution_count": 53,
   "metadata": {},
   "outputs": [
    {
     "name": "stdout",
     "output_type": "stream",
     "text": [
      "Extracting /tmp/data/train-images-idx3-ubyte.gz\n",
      "Extracting /tmp/data/train-labels-idx1-ubyte.gz\n",
      "Extracting /tmp/data/t10k-images-idx3-ubyte.gz\n",
      "Extracting /tmp/data/t10k-labels-idx1-ubyte.gz\n"
     ]
    }
   ],
   "source": [
    "from tensorflow.examples.tutorials.mnist import input_data\n",
    "\n",
    "mnist = input_data.read_data_sets('/tmp/data/')\n",
    "X_test = mnist.test.images.reshape((-1, n_steps, n_inputs))\n",
    "y_test = mnist.test.labels"
   ]
  },
  {
   "cell_type": "code",
   "execution_count": 57,
   "metadata": {},
   "outputs": [
    {
     "name": "stdout",
     "output_type": "stream",
     "text": [
      "epoch: 0 | train accuracy: 0.9400 | test accuracy: 0.9225\n",
      "epoch: 1 | train accuracy: 0.9533 | test accuracy: 0.9422\n",
      "epoch: 2 | train accuracy: 0.9733 | test accuracy: 0.9545\n",
      "epoch: 3 | train accuracy: 0.9533 | test accuracy: 0.9589\n",
      "epoch: 4 | train accuracy: 0.9800 | test accuracy: 0.9618\n",
      "epoch: 5 | train accuracy: 0.9733 | test accuracy: 0.9727\n",
      "epoch: 6 | train accuracy: 0.9933 | test accuracy: 0.9695\n",
      "epoch: 7 | train accuracy: 0.9667 | test accuracy: 0.9681\n",
      "epoch: 8 | train accuracy: 0.9667 | test accuracy: 0.9692\n",
      "epoch: 9 | train accuracy: 0.9667 | test accuracy: 0.9661\n",
      "epoch: 10 | train accuracy: 0.9800 | test accuracy: 0.9726\n",
      "epoch: 11 | train accuracy: 1.0000 | test accuracy: 0.9758\n",
      "epoch: 12 | train accuracy: 0.9667 | test accuracy: 0.9708\n",
      "epoch: 13 | train accuracy: 0.9867 | test accuracy: 0.9738\n",
      "epoch: 14 | train accuracy: 0.9800 | test accuracy: 0.9710\n",
      "epoch: 15 | train accuracy: 0.9867 | test accuracy: 0.9728\n",
      "epoch: 16 | train accuracy: 0.9867 | test accuracy: 0.9767\n",
      "epoch: 17 | train accuracy: 1.0000 | test accuracy: 0.9728\n",
      "epoch: 18 | train accuracy: 1.0000 | test accuracy: 0.9721\n",
      "epoch: 19 | train accuracy: 0.9933 | test accuracy: 0.9688\n",
      "epoch: 20 | train accuracy: 0.9933 | test accuracy: 0.9759\n",
      "epoch: 21 | train accuracy: 0.9933 | test accuracy: 0.9749\n",
      "epoch: 22 | train accuracy: 1.0000 | test accuracy: 0.9745\n",
      "epoch: 23 | train accuracy: 0.9867 | test accuracy: 0.9741\n",
      "epoch: 24 | train accuracy: 0.9800 | test accuracy: 0.9766\n",
      "epoch: 25 | train accuracy: 0.9733 | test accuracy: 0.9730\n",
      "epoch: 26 | train accuracy: 0.9800 | test accuracy: 0.9793\n",
      "epoch: 27 | train accuracy: 0.9933 | test accuracy: 0.9801\n",
      "epoch: 28 | train accuracy: 1.0000 | test accuracy: 0.9804\n",
      "epoch: 29 | train accuracy: 1.0000 | test accuracy: 0.9800\n",
      "epoch: 30 | train accuracy: 0.9800 | test accuracy: 0.9726\n",
      "epoch: 31 | train accuracy: 1.0000 | test accuracy: 0.9802\n",
      "epoch: 32 | train accuracy: 0.9867 | test accuracy: 0.9767\n",
      "epoch: 33 | train accuracy: 0.9800 | test accuracy: 0.9716\n",
      "epoch: 34 | train accuracy: 0.9867 | test accuracy: 0.9801\n",
      "epoch: 35 | train accuracy: 0.9867 | test accuracy: 0.9811\n",
      "epoch: 36 | train accuracy: 0.9933 | test accuracy: 0.9791\n",
      "epoch: 37 | train accuracy: 0.9800 | test accuracy: 0.9726\n",
      "epoch: 38 | train accuracy: 0.9933 | test accuracy: 0.9775\n",
      "epoch: 39 | train accuracy: 0.9867 | test accuracy: 0.9763\n",
      "epoch: 40 | train accuracy: 1.0000 | test accuracy: 0.9767\n",
      "epoch: 41 | train accuracy: 0.9867 | test accuracy: 0.9753\n",
      "epoch: 42 | train accuracy: 1.0000 | test accuracy: 0.9823\n",
      "epoch: 43 | train accuracy: 1.0000 | test accuracy: 0.9826\n",
      "epoch: 44 | train accuracy: 0.9933 | test accuracy: 0.9763\n",
      "epoch: 45 | train accuracy: 0.9667 | test accuracy: 0.9707\n",
      "epoch: 46 | train accuracy: 1.0000 | test accuracy: 0.9805\n",
      "epoch: 47 | train accuracy: 1.0000 | test accuracy: 0.9767\n",
      "epoch: 48 | train accuracy: 0.9933 | test accuracy: 0.9810\n",
      "epoch: 49 | train accuracy: 0.9933 | test accuracy: 0.9818\n",
      "epoch: 50 | train accuracy: 0.9733 | test accuracy: 0.9791\n",
      "epoch: 51 | train accuracy: 1.0000 | test accuracy: 0.9775\n",
      "epoch: 52 | train accuracy: 1.0000 | test accuracy: 0.9788\n",
      "epoch: 53 | train accuracy: 1.0000 | test accuracy: 0.9773\n",
      "epoch: 54 | train accuracy: 0.9933 | test accuracy: 0.9800\n",
      "epoch: 55 | train accuracy: 1.0000 | test accuracy: 0.9801\n",
      "epoch: 56 | train accuracy: 1.0000 | test accuracy: 0.9761\n",
      "epoch: 57 | train accuracy: 0.9933 | test accuracy: 0.9784\n",
      "epoch: 58 | train accuracy: 1.0000 | test accuracy: 0.9776\n",
      "epoch: 59 | train accuracy: 0.9933 | test accuracy: 0.9782\n",
      "epoch: 60 | train accuracy: 0.9933 | test accuracy: 0.9797\n",
      "epoch: 61 | train accuracy: 0.9800 | test accuracy: 0.9740\n",
      "epoch: 62 | train accuracy: 1.0000 | test accuracy: 0.9791\n",
      "epoch: 63 | train accuracy: 1.0000 | test accuracy: 0.9765\n",
      "epoch: 64 | train accuracy: 0.9800 | test accuracy: 0.9785\n",
      "epoch: 65 | train accuracy: 0.9933 | test accuracy: 0.9758\n",
      "epoch: 66 | train accuracy: 0.9800 | test accuracy: 0.9782\n",
      "epoch: 67 | train accuracy: 0.9867 | test accuracy: 0.9772\n",
      "epoch: 68 | train accuracy: 0.9800 | test accuracy: 0.9767\n",
      "epoch: 69 | train accuracy: 0.9800 | test accuracy: 0.9757\n",
      "epoch: 70 | train accuracy: 1.0000 | test accuracy: 0.9783\n",
      "epoch: 71 | train accuracy: 1.0000 | test accuracy: 0.9770\n",
      "epoch: 72 | train accuracy: 1.0000 | test accuracy: 0.9811\n",
      "epoch: 73 | train accuracy: 0.9933 | test accuracy: 0.9785\n",
      "epoch: 74 | train accuracy: 0.9933 | test accuracy: 0.9822\n",
      "epoch: 75 | train accuracy: 1.0000 | test accuracy: 0.9772\n",
      "epoch: 76 | train accuracy: 0.9867 | test accuracy: 0.9763\n",
      "epoch: 77 | train accuracy: 0.9800 | test accuracy: 0.9772\n",
      "epoch: 78 | train accuracy: 0.9733 | test accuracy: 0.9767\n",
      "epoch: 79 | train accuracy: 1.0000 | test accuracy: 0.9795\n",
      "epoch: 80 | train accuracy: 0.9733 | test accuracy: 0.9766\n",
      "epoch: 81 | train accuracy: 0.9933 | test accuracy: 0.9779\n",
      "epoch: 82 | train accuracy: 1.0000 | test accuracy: 0.9775\n",
      "epoch: 83 | train accuracy: 0.9867 | test accuracy: 0.9799\n",
      "epoch: 84 | train accuracy: 0.9600 | test accuracy: 0.9546\n",
      "epoch: 85 | train accuracy: 0.9867 | test accuracy: 0.9752\n",
      "epoch: 86 | train accuracy: 0.9933 | test accuracy: 0.9776\n",
      "epoch: 87 | train accuracy: 0.9933 | test accuracy: 0.9791\n",
      "epoch: 88 | train accuracy: 0.9867 | test accuracy: 0.9777\n",
      "epoch: 89 | train accuracy: 1.0000 | test accuracy: 0.9799\n",
      "epoch: 90 | train accuracy: 0.9933 | test accuracy: 0.9768\n",
      "epoch: 91 | train accuracy: 0.9933 | test accuracy: 0.9762\n",
      "epoch: 92 | train accuracy: 0.9933 | test accuracy: 0.9783\n",
      "epoch: 93 | train accuracy: 1.0000 | test accuracy: 0.9732\n",
      "epoch: 94 | train accuracy: 1.0000 | test accuracy: 0.9778\n",
      "epoch: 95 | train accuracy: 0.9933 | test accuracy: 0.9770\n",
      "epoch: 96 | train accuracy: 1.0000 | test accuracy: 0.9782\n",
      "epoch: 97 | train accuracy: 0.9800 | test accuracy: 0.9762\n",
      "epoch: 98 | train accuracy: 0.9933 | test accuracy: 0.9741\n",
      "epoch: 99 | train accuracy: 0.9800 | test accuracy: 0.9788\n"
     ]
    }
   ],
   "source": [
    "n_epochs = 100\n",
    "batch_size = 150\n",
    "\n",
    "with tf.Session() as sess:\n",
    "    init.run()\n",
    "    for epoch in range(n_epochs):\n",
    "        for iteration in range(mnist.train.num_examples // batch_size):\n",
    "            X_batch, y_batch = mnist.train.next_batch(batch_size)\n",
    "            X_batch = X_batch.reshape(-1, n_steps, n_inputs)\n",
    "            sess.run(training_op, feed_dict={X:X_batch, y:y_batch})\n",
    "        acc_train = accuracy.eval(feed_dict={X:X_batch, y:y_batch})\n",
    "        acc_test = accuracy.eval(feed_dict={X:X_test, y:y_test})\n",
    "        print(f'epoch: {epoch} | train accuracy: {acc_train:.4f} | test accuracy: {acc_test:.4f}')"
   ]
  },
  {
   "cell_type": "code",
   "execution_count": 89,
   "metadata": {},
   "outputs": [],
   "source": [
    "# time series forecasting\n",
    "\n",
    "tf.reset_default_graph()\n",
    "\n",
    "n_steps = 20\n",
    "n_inputs = 1\n",
    "n_neurons = 100\n",
    "n_outputs = 1\n",
    "learning_rate = 0.001\n",
    "\n",
    "\n",
    "X = tf.placeholder(tf.float32, [None, n_steps, n_inputs])\n",
    "y = tf.placeholder(tf.float32, [None, n_steps, n_outputs])\n",
    "\n",
    "cell = tf.contrib.rnn.BasicRNNCell(num_units=n_neurons, activation=tf.nn.relu)\n",
    "cell = tf.contrib.rnn.OutputProjectionWrapper(cell, output_size=n_outputs)\n",
    "\n",
    "outputs, states = tf.nn.dynamic_rnn(cell, X, dtype=tf.float32)\n",
    "\n",
    "loss = tf.reduce_mean(tf.square(outputs - y))\n",
    "optimizer = tf.train.AdamOptimizer(learning_rate=learning_rate)\n",
    "training_op = optimizer.minimize(loss)\n",
    "\n",
    "init = tf.global_variables_initializer()\n"
   ]
  },
  {
   "cell_type": "code",
   "execution_count": 90,
   "metadata": {},
   "outputs": [],
   "source": [
    "import matplotlib.pyplot as plt\n",
    "\n",
    "t_min, t_max = 0, 30\n",
    "resolution = 0.1\n",
    "\n",
    "def time_series(t):\n",
    "    return t * np.sin(t) / 3 + 2 * np.sin(t*5)\n",
    "\n",
    "def next_batch(batch_size, n_steps):\n",
    "    t0 = np.random.rand(batch_size, 1) * (t_max - t_min - n_steps * resolution)\n",
    "    Ts = t0 + np.arange(0., n_steps + 1) * resolution\n",
    "    ys = time_series(Ts)\n",
    "    return ys[:, :-1].reshape(-1, n_steps, 1), ys[:, 1:].reshape(-1, n_steps, 1)\n",
    "\n"
   ]
  },
  {
   "cell_type": "code",
   "execution_count": 91,
   "metadata": {},
   "outputs": [
    {
     "name": "stdout",
     "output_type": "stream",
     "text": [
      "Epoch: 0 | MSE: 17.02533531188965\n",
      "Epoch: 100 | MSE: 0.7531074285507202\n",
      "Epoch: 200 | MSE: 0.3197920322418213\n",
      "Epoch: 300 | MSE: 0.13721634447574615\n",
      "Epoch: 400 | MSE: 0.05726533383131027\n",
      "Epoch: 500 | MSE: 0.05333767831325531\n",
      "Epoch: 600 | MSE: 0.06567077338695526\n",
      "Epoch: 700 | MSE: 0.056353483349084854\n",
      "Epoch: 800 | MSE: 0.05108434706926346\n",
      "Epoch: 900 | MSE: 0.062102217227220535\n",
      "Epoch: 1000 | MSE: 0.050589025020599365\n",
      "Epoch: 1100 | MSE: 0.05000985041260719\n",
      "Epoch: 1200 | MSE: 0.03968095779418945\n",
      "Epoch: 1300 | MSE: 0.05358519032597542\n",
      "Epoch: 1400 | MSE: 0.0451069101691246\n"
     ]
    }
   ],
   "source": [
    "\n",
    "n_iterations = 1500\n",
    "batch_size = 50\n",
    "\n",
    "with tf.Session() as sess:\n",
    "    init.run()\n",
    "    for iteration in range(n_iterations):\n",
    "        X_batch, y_batch = next_batch(batch_size, n_steps)\n",
    "        sess.run(training_op, feed_dict={X:X_batch, y:y_batch})\n",
    "        if iteration % 100 == 0:\n",
    "            mse = loss.eval(feed_dict={X:X_batch, y:y_batch})\n",
    "            print(f'Epoch: {iteration} | MSE: {mse}')\n"
   ]
  },
  {
   "cell_type": "code",
   "execution_count": 92,
   "metadata": {},
   "outputs": [
    {
     "ename": "FailedPreconditionError",
     "evalue": "Attempting to use uninitialized value rnn/output_projection_wrapper/bias\n\t [[node rnn/output_projection_wrapper/bias/read (defined at <ipython-input-89-fe0f437cc1a2>:18) ]]\n\t [[node rnn/transpose_1 (defined at <ipython-input-89-fe0f437cc1a2>:18) ]]\n\nCaused by op 'rnn/output_projection_wrapper/bias/read', defined at:\n  File \"/home/tom/anaconda3/envs/tf/lib/python3.6/runpy.py\", line 193, in _run_module_as_main\n    \"__main__\", mod_spec)\n  File \"/home/tom/anaconda3/envs/tf/lib/python3.6/runpy.py\", line 85, in _run_code\n    exec(code, run_globals)\n  File \"/home/tom/anaconda3/envs/tf/lib/python3.6/site-packages/ipykernel_launcher.py\", line 16, in <module>\n    app.launch_new_instance()\n  File \"/home/tom/anaconda3/envs/tf/lib/python3.6/site-packages/traitlets/config/application.py\", line 658, in launch_instance\n    app.start()\n  File \"/home/tom/anaconda3/envs/tf/lib/python3.6/site-packages/ipykernel/kernelapp.py\", line 505, in start\n    self.io_loop.start()\n  File \"/home/tom/anaconda3/envs/tf/lib/python3.6/site-packages/tornado/platform/asyncio.py\", line 148, in start\n    self.asyncio_loop.run_forever()\n  File \"/home/tom/anaconda3/envs/tf/lib/python3.6/asyncio/base_events.py\", line 438, in run_forever\n    self._run_once()\n  File \"/home/tom/anaconda3/envs/tf/lib/python3.6/asyncio/base_events.py\", line 1451, in _run_once\n    handle._run()\n  File \"/home/tom/anaconda3/envs/tf/lib/python3.6/asyncio/events.py\", line 145, in _run\n    self._callback(*self._args)\n  File \"/home/tom/anaconda3/envs/tf/lib/python3.6/site-packages/tornado/ioloop.py\", line 690, in <lambda>\n    lambda f: self._run_callback(functools.partial(callback, future))\n  File \"/home/tom/anaconda3/envs/tf/lib/python3.6/site-packages/tornado/ioloop.py\", line 743, in _run_callback\n    ret = callback()\n  File \"/home/tom/anaconda3/envs/tf/lib/python3.6/site-packages/tornado/gen.py\", line 781, in inner\n    self.run()\n  File \"/home/tom/anaconda3/envs/tf/lib/python3.6/site-packages/tornado/gen.py\", line 742, in run\n    yielded = self.gen.send(value)\n  File \"/home/tom/anaconda3/envs/tf/lib/python3.6/site-packages/ipykernel/kernelbase.py\", line 357, in process_one\n    yield gen.maybe_future(dispatch(*args))\n  File \"/home/tom/anaconda3/envs/tf/lib/python3.6/site-packages/tornado/gen.py\", line 209, in wrapper\n    yielded = next(result)\n  File \"/home/tom/anaconda3/envs/tf/lib/python3.6/site-packages/ipykernel/kernelbase.py\", line 267, in dispatch_shell\n    yield gen.maybe_future(handler(stream, idents, msg))\n  File \"/home/tom/anaconda3/envs/tf/lib/python3.6/site-packages/tornado/gen.py\", line 209, in wrapper\n    yielded = next(result)\n  File \"/home/tom/anaconda3/envs/tf/lib/python3.6/site-packages/ipykernel/kernelbase.py\", line 534, in execute_request\n    user_expressions, allow_stdin,\n  File \"/home/tom/anaconda3/envs/tf/lib/python3.6/site-packages/tornado/gen.py\", line 209, in wrapper\n    yielded = next(result)\n  File \"/home/tom/anaconda3/envs/tf/lib/python3.6/site-packages/ipykernel/ipkernel.py\", line 294, in do_execute\n    res = shell.run_cell(code, store_history=store_history, silent=silent)\n  File \"/home/tom/anaconda3/envs/tf/lib/python3.6/site-packages/ipykernel/zmqshell.py\", line 536, in run_cell\n    return super(ZMQInteractiveShell, self).run_cell(*args, **kwargs)\n  File \"/home/tom/anaconda3/envs/tf/lib/python3.6/site-packages/IPython/core/interactiveshell.py\", line 2843, in run_cell\n    raw_cell, store_history, silent, shell_futures)\n  File \"/home/tom/anaconda3/envs/tf/lib/python3.6/site-packages/IPython/core/interactiveshell.py\", line 2869, in _run_cell\n    return runner(coro)\n  File \"/home/tom/anaconda3/envs/tf/lib/python3.6/site-packages/IPython/core/async_helpers.py\", line 67, in _pseudo_sync_runner\n    coro.send(None)\n  File \"/home/tom/anaconda3/envs/tf/lib/python3.6/site-packages/IPython/core/interactiveshell.py\", line 3044, in run_cell_async\n    interactivity=interactivity, compiler=compiler, result=result)\n  File \"/home/tom/anaconda3/envs/tf/lib/python3.6/site-packages/IPython/core/interactiveshell.py\", line 3209, in run_ast_nodes\n    if (yield from self.run_code(code, result)):\n  File \"/home/tom/anaconda3/envs/tf/lib/python3.6/site-packages/IPython/core/interactiveshell.py\", line 3291, in run_code\n    exec(code_obj, self.user_global_ns, self.user_ns)\n  File \"<ipython-input-89-fe0f437cc1a2>\", line 18, in <module>\n    outputs, states = tf.nn.dynamic_rnn(cell, X, dtype=tf.float32)\n  File \"/home/tom/anaconda3/envs/tf/lib/python3.6/site-packages/tensorflow/python/util/deprecation.py\", line 324, in new_func\n    return func(*args, **kwargs)\n  File \"/home/tom/anaconda3/envs/tf/lib/python3.6/site-packages/tensorflow/python/ops/rnn.py\", line 671, in dynamic_rnn\n    dtype=dtype)\n  File \"/home/tom/anaconda3/envs/tf/lib/python3.6/site-packages/tensorflow/python/ops/rnn.py\", line 879, in _dynamic_rnn_loop\n    swap_memory=swap_memory)\n  File \"/home/tom/anaconda3/envs/tf/lib/python3.6/site-packages/tensorflow/python/ops/control_flow_ops.py\", line 3556, in while_loop\n    return_same_structure)\n  File \"/home/tom/anaconda3/envs/tf/lib/python3.6/site-packages/tensorflow/python/ops/control_flow_ops.py\", line 3087, in BuildLoop\n    pred, body, original_loop_vars, loop_vars, shape_invariants)\n  File \"/home/tom/anaconda3/envs/tf/lib/python3.6/site-packages/tensorflow/python/ops/control_flow_ops.py\", line 3022, in _BuildLoop\n    body_result = body(*packed_vars_for_body)\n  File \"/home/tom/anaconda3/envs/tf/lib/python3.6/site-packages/tensorflow/python/ops/control_flow_ops.py\", line 3525, in <lambda>\n    body = lambda i, lv: (i + 1, orig_body(*lv))\n  File \"/home/tom/anaconda3/envs/tf/lib/python3.6/site-packages/tensorflow/python/ops/rnn.py\", line 847, in _time_step\n    (output, new_state) = call_cell()\n  File \"/home/tom/anaconda3/envs/tf/lib/python3.6/site-packages/tensorflow/python/ops/rnn.py\", line 833, in <lambda>\n    call_cell = lambda: cell(input_t, state)\n  File \"/home/tom/anaconda3/envs/tf/lib/python3.6/site-packages/tensorflow/python/ops/rnn_cell_impl.py\", line 234, in __call__\n    return super(RNNCell, self).__call__(inputs, state)\n  File \"/home/tom/anaconda3/envs/tf/lib/python3.6/site-packages/tensorflow/python/layers/base.py\", line 530, in __call__\n    outputs = super(Layer, self).__call__(inputs, *args, **kwargs)\n  File \"/home/tom/anaconda3/envs/tf/lib/python3.6/site-packages/tensorflow/python/keras/engine/base_layer.py\", line 554, in __call__\n    outputs = self.call(inputs, *args, **kwargs)\n  File \"/home/tom/anaconda3/envs/tf/lib/python3.6/site-packages/tensorflow/contrib/rnn/python/ops/core_rnn_cell.py\", line 380, in call\n    self._linear = _Linear(output, self._output_size, True)\n  File \"/home/tom/anaconda3/envs/tf/lib/python3.6/site-packages/tensorflow/contrib/rnn/python/ops/core_rnn_cell.py\", line 108, in __init__\n    initializer=bias_initializer)\n  File \"/home/tom/anaconda3/envs/tf/lib/python3.6/site-packages/tensorflow/python/ops/variable_scope.py\", line 1479, in get_variable\n    aggregation=aggregation)\n  File \"/home/tom/anaconda3/envs/tf/lib/python3.6/site-packages/tensorflow/python/ops/variable_scope.py\", line 1220, in get_variable\n    aggregation=aggregation)\n  File \"/home/tom/anaconda3/envs/tf/lib/python3.6/site-packages/tensorflow/python/ops/variable_scope.py\", line 530, in get_variable\n    return custom_getter(**custom_getter_kwargs)\n  File \"/home/tom/anaconda3/envs/tf/lib/python3.6/site-packages/tensorflow/python/ops/rnn_cell_impl.py\", line 237, in _rnn_get_variable\n    variable = getter(*args, **kwargs)\n  File \"/home/tom/anaconda3/envs/tf/lib/python3.6/site-packages/tensorflow/python/ops/variable_scope.py\", line 499, in _true_getter\n    aggregation=aggregation)\n  File \"/home/tom/anaconda3/envs/tf/lib/python3.6/site-packages/tensorflow/python/ops/variable_scope.py\", line 911, in _get_single_variable\n    aggregation=aggregation)\n  File \"/home/tom/anaconda3/envs/tf/lib/python3.6/site-packages/tensorflow/python/ops/variables.py\", line 213, in __call__\n    return cls._variable_v1_call(*args, **kwargs)\n  File \"/home/tom/anaconda3/envs/tf/lib/python3.6/site-packages/tensorflow/python/ops/variables.py\", line 176, in _variable_v1_call\n    aggregation=aggregation)\n  File \"/home/tom/anaconda3/envs/tf/lib/python3.6/site-packages/tensorflow/python/ops/variables.py\", line 155, in <lambda>\n    previous_getter = lambda **kwargs: default_variable_creator(None, **kwargs)\n  File \"/home/tom/anaconda3/envs/tf/lib/python3.6/site-packages/tensorflow/python/ops/variable_scope.py\", line 2495, in default_variable_creator\n    expected_shape=expected_shape, import_scope=import_scope)\n  File \"/home/tom/anaconda3/envs/tf/lib/python3.6/site-packages/tensorflow/python/ops/variables.py\", line 217, in __call__\n    return super(VariableMetaclass, cls).__call__(*args, **kwargs)\n  File \"/home/tom/anaconda3/envs/tf/lib/python3.6/site-packages/tensorflow/python/ops/variables.py\", line 1395, in __init__\n    constraint=constraint)\n  File \"/home/tom/anaconda3/envs/tf/lib/python3.6/site-packages/tensorflow/python/ops/variables.py\", line 1554, in _init_from_args\n    self._snapshot = array_ops.identity(self._variable, name=\"read\")\n  File \"/home/tom/anaconda3/envs/tf/lib/python3.6/site-packages/tensorflow/python/util/dispatch.py\", line 180, in wrapper\n    return target(*args, **kwargs)\n  File \"/home/tom/anaconda3/envs/tf/lib/python3.6/site-packages/tensorflow/python/ops/array_ops.py\", line 81, in identity\n    ret = gen_array_ops.identity(input, name=name)\n  File \"/home/tom/anaconda3/envs/tf/lib/python3.6/site-packages/tensorflow/python/ops/gen_array_ops.py\", line 3890, in identity\n    \"Identity\", input=input, name=name)\n  File \"/home/tom/anaconda3/envs/tf/lib/python3.6/site-packages/tensorflow/python/framework/op_def_library.py\", line 788, in _apply_op_helper\n    op_def=op_def)\n  File \"/home/tom/anaconda3/envs/tf/lib/python3.6/site-packages/tensorflow/python/util/deprecation.py\", line 507, in new_func\n    return func(*args, **kwargs)\n  File \"/home/tom/anaconda3/envs/tf/lib/python3.6/site-packages/tensorflow/python/framework/ops.py\", line 3300, in create_op\n    op_def=op_def)\n  File \"/home/tom/anaconda3/envs/tf/lib/python3.6/site-packages/tensorflow/python/framework/ops.py\", line 1801, in __init__\n    self._traceback = tf_stack.extract_stack()\n\nFailedPreconditionError (see above for traceback): Attempting to use uninitialized value rnn/output_projection_wrapper/bias\n\t [[node rnn/output_projection_wrapper/bias/read (defined at <ipython-input-89-fe0f437cc1a2>:18) ]]\n\t [[node rnn/transpose_1 (defined at <ipython-input-89-fe0f437cc1a2>:18) ]]\n",
     "output_type": "error",
     "traceback": [
      "\u001b[0;31m---------------------------------------------------------------------------\u001b[0m",
      "\u001b[0;31mFailedPreconditionError\u001b[0m                   Traceback (most recent call last)",
      "\u001b[0;32m~/anaconda3/envs/tf/lib/python3.6/site-packages/tensorflow/python/client/session.py\u001b[0m in \u001b[0;36m_do_call\u001b[0;34m(self, fn, *args)\u001b[0m\n\u001b[1;32m   1333\u001b[0m     \u001b[0;32mtry\u001b[0m\u001b[0;34m:\u001b[0m\u001b[0;34m\u001b[0m\u001b[0;34m\u001b[0m\u001b[0m\n\u001b[0;32m-> 1334\u001b[0;31m       \u001b[0;32mreturn\u001b[0m \u001b[0mfn\u001b[0m\u001b[0;34m(\u001b[0m\u001b[0;34m*\u001b[0m\u001b[0margs\u001b[0m\u001b[0;34m)\u001b[0m\u001b[0;34m\u001b[0m\u001b[0;34m\u001b[0m\u001b[0m\n\u001b[0m\u001b[1;32m   1335\u001b[0m     \u001b[0;32mexcept\u001b[0m \u001b[0merrors\u001b[0m\u001b[0;34m.\u001b[0m\u001b[0mOpError\u001b[0m \u001b[0;32mas\u001b[0m \u001b[0me\u001b[0m\u001b[0;34m:\u001b[0m\u001b[0;34m\u001b[0m\u001b[0;34m\u001b[0m\u001b[0m\n",
      "\u001b[0;32m~/anaconda3/envs/tf/lib/python3.6/site-packages/tensorflow/python/client/session.py\u001b[0m in \u001b[0;36m_run_fn\u001b[0;34m(feed_dict, fetch_list, target_list, options, run_metadata)\u001b[0m\n\u001b[1;32m   1318\u001b[0m       return self._call_tf_sessionrun(\n\u001b[0;32m-> 1319\u001b[0;31m           options, feed_dict, fetch_list, target_list, run_metadata)\n\u001b[0m\u001b[1;32m   1320\u001b[0m \u001b[0;34m\u001b[0m\u001b[0m\n",
      "\u001b[0;32m~/anaconda3/envs/tf/lib/python3.6/site-packages/tensorflow/python/client/session.py\u001b[0m in \u001b[0;36m_call_tf_sessionrun\u001b[0;34m(self, options, feed_dict, fetch_list, target_list, run_metadata)\u001b[0m\n\u001b[1;32m   1406\u001b[0m         \u001b[0mself\u001b[0m\u001b[0;34m.\u001b[0m\u001b[0m_session\u001b[0m\u001b[0;34m,\u001b[0m \u001b[0moptions\u001b[0m\u001b[0;34m,\u001b[0m \u001b[0mfeed_dict\u001b[0m\u001b[0;34m,\u001b[0m \u001b[0mfetch_list\u001b[0m\u001b[0;34m,\u001b[0m \u001b[0mtarget_list\u001b[0m\u001b[0;34m,\u001b[0m\u001b[0;34m\u001b[0m\u001b[0;34m\u001b[0m\u001b[0m\n\u001b[0;32m-> 1407\u001b[0;31m         run_metadata)\n\u001b[0m\u001b[1;32m   1408\u001b[0m \u001b[0;34m\u001b[0m\u001b[0m\n",
      "\u001b[0;31mFailedPreconditionError\u001b[0m: Attempting to use uninitialized value rnn/output_projection_wrapper/bias\n\t [[{{node rnn/output_projection_wrapper/bias/read}}]]\n\t [[{{node rnn/transpose_1}}]]",
      "\nDuring handling of the above exception, another exception occurred:\n",
      "\u001b[0;31mFailedPreconditionError\u001b[0m                   Traceback (most recent call last)",
      "\u001b[0;32m<ipython-input-92-b04f0bb364d5>\u001b[0m in \u001b[0;36m<module>\u001b[0;34m\u001b[0m\n\u001b[1;32m      3\u001b[0m     \u001b[0;32mfor\u001b[0m \u001b[0miteration\u001b[0m \u001b[0;32min\u001b[0m \u001b[0mrange\u001b[0m\u001b[0;34m(\u001b[0m\u001b[0;36m300\u001b[0m\u001b[0;34m)\u001b[0m\u001b[0;34m:\u001b[0m\u001b[0;34m\u001b[0m\u001b[0;34m\u001b[0m\u001b[0m\n\u001b[1;32m      4\u001b[0m         \u001b[0mX_batch\u001b[0m \u001b[0;34m=\u001b[0m \u001b[0mnp\u001b[0m\u001b[0;34m.\u001b[0m\u001b[0marray\u001b[0m\u001b[0;34m(\u001b[0m\u001b[0msequence\u001b[0m\u001b[0;34m[\u001b[0m\u001b[0;34m-\u001b[0m\u001b[0mn_steps\u001b[0m\u001b[0;34m:\u001b[0m\u001b[0;34m]\u001b[0m\u001b[0;34m)\u001b[0m\u001b[0;34m.\u001b[0m\u001b[0mreshape\u001b[0m\u001b[0;34m(\u001b[0m\u001b[0;36m1\u001b[0m\u001b[0;34m,\u001b[0m \u001b[0mn_steps\u001b[0m\u001b[0;34m,\u001b[0m \u001b[0;36m1\u001b[0m\u001b[0;34m)\u001b[0m\u001b[0;34m\u001b[0m\u001b[0;34m\u001b[0m\u001b[0m\n\u001b[0;32m----> 5\u001b[0;31m         \u001b[0my_pred\u001b[0m \u001b[0;34m=\u001b[0m \u001b[0msess\u001b[0m\u001b[0;34m.\u001b[0m\u001b[0mrun\u001b[0m\u001b[0;34m(\u001b[0m\u001b[0moutputs\u001b[0m\u001b[0;34m,\u001b[0m \u001b[0mfeed_dict\u001b[0m\u001b[0;34m=\u001b[0m\u001b[0;34m{\u001b[0m\u001b[0mX\u001b[0m\u001b[0;34m:\u001b[0m\u001b[0mX_batch\u001b[0m\u001b[0;34m}\u001b[0m\u001b[0;34m)\u001b[0m\u001b[0;34m\u001b[0m\u001b[0;34m\u001b[0m\u001b[0m\n\u001b[0m\u001b[1;32m      6\u001b[0m         \u001b[0msequence\u001b[0m\u001b[0;34m.\u001b[0m\u001b[0mappend\u001b[0m\u001b[0;34m(\u001b[0m\u001b[0my_pred\u001b[0m\u001b[0;34m[\u001b[0m\u001b[0;36m0\u001b[0m\u001b[0;34m,\u001b[0m \u001b[0;34m-\u001b[0m\u001b[0;36m1\u001b[0m\u001b[0;34m,\u001b[0m \u001b[0;36m0\u001b[0m\u001b[0;34m]\u001b[0m\u001b[0;34m)\u001b[0m\u001b[0;34m\u001b[0m\u001b[0;34m\u001b[0m\u001b[0m\n",
      "\u001b[0;32m~/anaconda3/envs/tf/lib/python3.6/site-packages/tensorflow/python/client/session.py\u001b[0m in \u001b[0;36mrun\u001b[0;34m(self, fetches, feed_dict, options, run_metadata)\u001b[0m\n\u001b[1;32m    927\u001b[0m     \u001b[0;32mtry\u001b[0m\u001b[0;34m:\u001b[0m\u001b[0;34m\u001b[0m\u001b[0;34m\u001b[0m\u001b[0m\n\u001b[1;32m    928\u001b[0m       result = self._run(None, fetches, feed_dict, options_ptr,\n\u001b[0;32m--> 929\u001b[0;31m                          run_metadata_ptr)\n\u001b[0m\u001b[1;32m    930\u001b[0m       \u001b[0;32mif\u001b[0m \u001b[0mrun_metadata\u001b[0m\u001b[0;34m:\u001b[0m\u001b[0;34m\u001b[0m\u001b[0;34m\u001b[0m\u001b[0m\n\u001b[1;32m    931\u001b[0m         \u001b[0mproto_data\u001b[0m \u001b[0;34m=\u001b[0m \u001b[0mtf_session\u001b[0m\u001b[0;34m.\u001b[0m\u001b[0mTF_GetBuffer\u001b[0m\u001b[0;34m(\u001b[0m\u001b[0mrun_metadata_ptr\u001b[0m\u001b[0;34m)\u001b[0m\u001b[0;34m\u001b[0m\u001b[0;34m\u001b[0m\u001b[0m\n",
      "\u001b[0;32m~/anaconda3/envs/tf/lib/python3.6/site-packages/tensorflow/python/client/session.py\u001b[0m in \u001b[0;36m_run\u001b[0;34m(self, handle, fetches, feed_dict, options, run_metadata)\u001b[0m\n\u001b[1;32m   1150\u001b[0m     \u001b[0;32mif\u001b[0m \u001b[0mfinal_fetches\u001b[0m \u001b[0;32mor\u001b[0m \u001b[0mfinal_targets\u001b[0m \u001b[0;32mor\u001b[0m \u001b[0;34m(\u001b[0m\u001b[0mhandle\u001b[0m \u001b[0;32mand\u001b[0m \u001b[0mfeed_dict_tensor\u001b[0m\u001b[0;34m)\u001b[0m\u001b[0;34m:\u001b[0m\u001b[0;34m\u001b[0m\u001b[0;34m\u001b[0m\u001b[0m\n\u001b[1;32m   1151\u001b[0m       results = self._do_run(handle, final_targets, final_fetches,\n\u001b[0;32m-> 1152\u001b[0;31m                              feed_dict_tensor, options, run_metadata)\n\u001b[0m\u001b[1;32m   1153\u001b[0m     \u001b[0;32melse\u001b[0m\u001b[0;34m:\u001b[0m\u001b[0;34m\u001b[0m\u001b[0;34m\u001b[0m\u001b[0m\n\u001b[1;32m   1154\u001b[0m       \u001b[0mresults\u001b[0m \u001b[0;34m=\u001b[0m \u001b[0;34m[\u001b[0m\u001b[0;34m]\u001b[0m\u001b[0;34m\u001b[0m\u001b[0;34m\u001b[0m\u001b[0m\n",
      "\u001b[0;32m~/anaconda3/envs/tf/lib/python3.6/site-packages/tensorflow/python/client/session.py\u001b[0m in \u001b[0;36m_do_run\u001b[0;34m(self, handle, target_list, fetch_list, feed_dict, options, run_metadata)\u001b[0m\n\u001b[1;32m   1326\u001b[0m     \u001b[0;32mif\u001b[0m \u001b[0mhandle\u001b[0m \u001b[0;32mis\u001b[0m \u001b[0;32mNone\u001b[0m\u001b[0;34m:\u001b[0m\u001b[0;34m\u001b[0m\u001b[0;34m\u001b[0m\u001b[0m\n\u001b[1;32m   1327\u001b[0m       return self._do_call(_run_fn, feeds, fetches, targets, options,\n\u001b[0;32m-> 1328\u001b[0;31m                            run_metadata)\n\u001b[0m\u001b[1;32m   1329\u001b[0m     \u001b[0;32melse\u001b[0m\u001b[0;34m:\u001b[0m\u001b[0;34m\u001b[0m\u001b[0;34m\u001b[0m\u001b[0m\n\u001b[1;32m   1330\u001b[0m       \u001b[0;32mreturn\u001b[0m \u001b[0mself\u001b[0m\u001b[0;34m.\u001b[0m\u001b[0m_do_call\u001b[0m\u001b[0;34m(\u001b[0m\u001b[0m_prun_fn\u001b[0m\u001b[0;34m,\u001b[0m \u001b[0mhandle\u001b[0m\u001b[0;34m,\u001b[0m \u001b[0mfeeds\u001b[0m\u001b[0;34m,\u001b[0m \u001b[0mfetches\u001b[0m\u001b[0;34m)\u001b[0m\u001b[0;34m\u001b[0m\u001b[0;34m\u001b[0m\u001b[0m\n",
      "\u001b[0;32m~/anaconda3/envs/tf/lib/python3.6/site-packages/tensorflow/python/client/session.py\u001b[0m in \u001b[0;36m_do_call\u001b[0;34m(self, fn, *args)\u001b[0m\n\u001b[1;32m   1346\u001b[0m           \u001b[0;32mpass\u001b[0m\u001b[0;34m\u001b[0m\u001b[0;34m\u001b[0m\u001b[0m\n\u001b[1;32m   1347\u001b[0m       \u001b[0mmessage\u001b[0m \u001b[0;34m=\u001b[0m \u001b[0merror_interpolation\u001b[0m\u001b[0;34m.\u001b[0m\u001b[0minterpolate\u001b[0m\u001b[0;34m(\u001b[0m\u001b[0mmessage\u001b[0m\u001b[0;34m,\u001b[0m \u001b[0mself\u001b[0m\u001b[0;34m.\u001b[0m\u001b[0m_graph\u001b[0m\u001b[0;34m)\u001b[0m\u001b[0;34m\u001b[0m\u001b[0;34m\u001b[0m\u001b[0m\n\u001b[0;32m-> 1348\u001b[0;31m       \u001b[0;32mraise\u001b[0m \u001b[0mtype\u001b[0m\u001b[0;34m(\u001b[0m\u001b[0me\u001b[0m\u001b[0;34m)\u001b[0m\u001b[0;34m(\u001b[0m\u001b[0mnode_def\u001b[0m\u001b[0;34m,\u001b[0m \u001b[0mop\u001b[0m\u001b[0;34m,\u001b[0m \u001b[0mmessage\u001b[0m\u001b[0;34m)\u001b[0m\u001b[0;34m\u001b[0m\u001b[0;34m\u001b[0m\u001b[0m\n\u001b[0m\u001b[1;32m   1349\u001b[0m \u001b[0;34m\u001b[0m\u001b[0m\n\u001b[1;32m   1350\u001b[0m   \u001b[0;32mdef\u001b[0m \u001b[0m_extend_graph\u001b[0m\u001b[0;34m(\u001b[0m\u001b[0mself\u001b[0m\u001b[0;34m)\u001b[0m\u001b[0;34m:\u001b[0m\u001b[0;34m\u001b[0m\u001b[0;34m\u001b[0m\u001b[0m\n",
      "\u001b[0;31mFailedPreconditionError\u001b[0m: Attempting to use uninitialized value rnn/output_projection_wrapper/bias\n\t [[node rnn/output_projection_wrapper/bias/read (defined at <ipython-input-89-fe0f437cc1a2>:18) ]]\n\t [[node rnn/transpose_1 (defined at <ipython-input-89-fe0f437cc1a2>:18) ]]\n\nCaused by op 'rnn/output_projection_wrapper/bias/read', defined at:\n  File \"/home/tom/anaconda3/envs/tf/lib/python3.6/runpy.py\", line 193, in _run_module_as_main\n    \"__main__\", mod_spec)\n  File \"/home/tom/anaconda3/envs/tf/lib/python3.6/runpy.py\", line 85, in _run_code\n    exec(code, run_globals)\n  File \"/home/tom/anaconda3/envs/tf/lib/python3.6/site-packages/ipykernel_launcher.py\", line 16, in <module>\n    app.launch_new_instance()\n  File \"/home/tom/anaconda3/envs/tf/lib/python3.6/site-packages/traitlets/config/application.py\", line 658, in launch_instance\n    app.start()\n  File \"/home/tom/anaconda3/envs/tf/lib/python3.6/site-packages/ipykernel/kernelapp.py\", line 505, in start\n    self.io_loop.start()\n  File \"/home/tom/anaconda3/envs/tf/lib/python3.6/site-packages/tornado/platform/asyncio.py\", line 148, in start\n    self.asyncio_loop.run_forever()\n  File \"/home/tom/anaconda3/envs/tf/lib/python3.6/asyncio/base_events.py\", line 438, in run_forever\n    self._run_once()\n  File \"/home/tom/anaconda3/envs/tf/lib/python3.6/asyncio/base_events.py\", line 1451, in _run_once\n    handle._run()\n  File \"/home/tom/anaconda3/envs/tf/lib/python3.6/asyncio/events.py\", line 145, in _run\n    self._callback(*self._args)\n  File \"/home/tom/anaconda3/envs/tf/lib/python3.6/site-packages/tornado/ioloop.py\", line 690, in <lambda>\n    lambda f: self._run_callback(functools.partial(callback, future))\n  File \"/home/tom/anaconda3/envs/tf/lib/python3.6/site-packages/tornado/ioloop.py\", line 743, in _run_callback\n    ret = callback()\n  File \"/home/tom/anaconda3/envs/tf/lib/python3.6/site-packages/tornado/gen.py\", line 781, in inner\n    self.run()\n  File \"/home/tom/anaconda3/envs/tf/lib/python3.6/site-packages/tornado/gen.py\", line 742, in run\n    yielded = self.gen.send(value)\n  File \"/home/tom/anaconda3/envs/tf/lib/python3.6/site-packages/ipykernel/kernelbase.py\", line 357, in process_one\n    yield gen.maybe_future(dispatch(*args))\n  File \"/home/tom/anaconda3/envs/tf/lib/python3.6/site-packages/tornado/gen.py\", line 209, in wrapper\n    yielded = next(result)\n  File \"/home/tom/anaconda3/envs/tf/lib/python3.6/site-packages/ipykernel/kernelbase.py\", line 267, in dispatch_shell\n    yield gen.maybe_future(handler(stream, idents, msg))\n  File \"/home/tom/anaconda3/envs/tf/lib/python3.6/site-packages/tornado/gen.py\", line 209, in wrapper\n    yielded = next(result)\n  File \"/home/tom/anaconda3/envs/tf/lib/python3.6/site-packages/ipykernel/kernelbase.py\", line 534, in execute_request\n    user_expressions, allow_stdin,\n  File \"/home/tom/anaconda3/envs/tf/lib/python3.6/site-packages/tornado/gen.py\", line 209, in wrapper\n    yielded = next(result)\n  File \"/home/tom/anaconda3/envs/tf/lib/python3.6/site-packages/ipykernel/ipkernel.py\", line 294, in do_execute\n    res = shell.run_cell(code, store_history=store_history, silent=silent)\n  File \"/home/tom/anaconda3/envs/tf/lib/python3.6/site-packages/ipykernel/zmqshell.py\", line 536, in run_cell\n    return super(ZMQInteractiveShell, self).run_cell(*args, **kwargs)\n  File \"/home/tom/anaconda3/envs/tf/lib/python3.6/site-packages/IPython/core/interactiveshell.py\", line 2843, in run_cell\n    raw_cell, store_history, silent, shell_futures)\n  File \"/home/tom/anaconda3/envs/tf/lib/python3.6/site-packages/IPython/core/interactiveshell.py\", line 2869, in _run_cell\n    return runner(coro)\n  File \"/home/tom/anaconda3/envs/tf/lib/python3.6/site-packages/IPython/core/async_helpers.py\", line 67, in _pseudo_sync_runner\n    coro.send(None)\n  File \"/home/tom/anaconda3/envs/tf/lib/python3.6/site-packages/IPython/core/interactiveshell.py\", line 3044, in run_cell_async\n    interactivity=interactivity, compiler=compiler, result=result)\n  File \"/home/tom/anaconda3/envs/tf/lib/python3.6/site-packages/IPython/core/interactiveshell.py\", line 3209, in run_ast_nodes\n    if (yield from self.run_code(code, result)):\n  File \"/home/tom/anaconda3/envs/tf/lib/python3.6/site-packages/IPython/core/interactiveshell.py\", line 3291, in run_code\n    exec(code_obj, self.user_global_ns, self.user_ns)\n  File \"<ipython-input-89-fe0f437cc1a2>\", line 18, in <module>\n    outputs, states = tf.nn.dynamic_rnn(cell, X, dtype=tf.float32)\n  File \"/home/tom/anaconda3/envs/tf/lib/python3.6/site-packages/tensorflow/python/util/deprecation.py\", line 324, in new_func\n    return func(*args, **kwargs)\n  File \"/home/tom/anaconda3/envs/tf/lib/python3.6/site-packages/tensorflow/python/ops/rnn.py\", line 671, in dynamic_rnn\n    dtype=dtype)\n  File \"/home/tom/anaconda3/envs/tf/lib/python3.6/site-packages/tensorflow/python/ops/rnn.py\", line 879, in _dynamic_rnn_loop\n    swap_memory=swap_memory)\n  File \"/home/tom/anaconda3/envs/tf/lib/python3.6/site-packages/tensorflow/python/ops/control_flow_ops.py\", line 3556, in while_loop\n    return_same_structure)\n  File \"/home/tom/anaconda3/envs/tf/lib/python3.6/site-packages/tensorflow/python/ops/control_flow_ops.py\", line 3087, in BuildLoop\n    pred, body, original_loop_vars, loop_vars, shape_invariants)\n  File \"/home/tom/anaconda3/envs/tf/lib/python3.6/site-packages/tensorflow/python/ops/control_flow_ops.py\", line 3022, in _BuildLoop\n    body_result = body(*packed_vars_for_body)\n  File \"/home/tom/anaconda3/envs/tf/lib/python3.6/site-packages/tensorflow/python/ops/control_flow_ops.py\", line 3525, in <lambda>\n    body = lambda i, lv: (i + 1, orig_body(*lv))\n  File \"/home/tom/anaconda3/envs/tf/lib/python3.6/site-packages/tensorflow/python/ops/rnn.py\", line 847, in _time_step\n    (output, new_state) = call_cell()\n  File \"/home/tom/anaconda3/envs/tf/lib/python3.6/site-packages/tensorflow/python/ops/rnn.py\", line 833, in <lambda>\n    call_cell = lambda: cell(input_t, state)\n  File \"/home/tom/anaconda3/envs/tf/lib/python3.6/site-packages/tensorflow/python/ops/rnn_cell_impl.py\", line 234, in __call__\n    return super(RNNCell, self).__call__(inputs, state)\n  File \"/home/tom/anaconda3/envs/tf/lib/python3.6/site-packages/tensorflow/python/layers/base.py\", line 530, in __call__\n    outputs = super(Layer, self).__call__(inputs, *args, **kwargs)\n  File \"/home/tom/anaconda3/envs/tf/lib/python3.6/site-packages/tensorflow/python/keras/engine/base_layer.py\", line 554, in __call__\n    outputs = self.call(inputs, *args, **kwargs)\n  File \"/home/tom/anaconda3/envs/tf/lib/python3.6/site-packages/tensorflow/contrib/rnn/python/ops/core_rnn_cell.py\", line 380, in call\n    self._linear = _Linear(output, self._output_size, True)\n  File \"/home/tom/anaconda3/envs/tf/lib/python3.6/site-packages/tensorflow/contrib/rnn/python/ops/core_rnn_cell.py\", line 108, in __init__\n    initializer=bias_initializer)\n  File \"/home/tom/anaconda3/envs/tf/lib/python3.6/site-packages/tensorflow/python/ops/variable_scope.py\", line 1479, in get_variable\n    aggregation=aggregation)\n  File \"/home/tom/anaconda3/envs/tf/lib/python3.6/site-packages/tensorflow/python/ops/variable_scope.py\", line 1220, in get_variable\n    aggregation=aggregation)\n  File \"/home/tom/anaconda3/envs/tf/lib/python3.6/site-packages/tensorflow/python/ops/variable_scope.py\", line 530, in get_variable\n    return custom_getter(**custom_getter_kwargs)\n  File \"/home/tom/anaconda3/envs/tf/lib/python3.6/site-packages/tensorflow/python/ops/rnn_cell_impl.py\", line 237, in _rnn_get_variable\n    variable = getter(*args, **kwargs)\n  File \"/home/tom/anaconda3/envs/tf/lib/python3.6/site-packages/tensorflow/python/ops/variable_scope.py\", line 499, in _true_getter\n    aggregation=aggregation)\n  File \"/home/tom/anaconda3/envs/tf/lib/python3.6/site-packages/tensorflow/python/ops/variable_scope.py\", line 911, in _get_single_variable\n    aggregation=aggregation)\n  File \"/home/tom/anaconda3/envs/tf/lib/python3.6/site-packages/tensorflow/python/ops/variables.py\", line 213, in __call__\n    return cls._variable_v1_call(*args, **kwargs)\n  File \"/home/tom/anaconda3/envs/tf/lib/python3.6/site-packages/tensorflow/python/ops/variables.py\", line 176, in _variable_v1_call\n    aggregation=aggregation)\n  File \"/home/tom/anaconda3/envs/tf/lib/python3.6/site-packages/tensorflow/python/ops/variables.py\", line 155, in <lambda>\n    previous_getter = lambda **kwargs: default_variable_creator(None, **kwargs)\n  File \"/home/tom/anaconda3/envs/tf/lib/python3.6/site-packages/tensorflow/python/ops/variable_scope.py\", line 2495, in default_variable_creator\n    expected_shape=expected_shape, import_scope=import_scope)\n  File \"/home/tom/anaconda3/envs/tf/lib/python3.6/site-packages/tensorflow/python/ops/variables.py\", line 217, in __call__\n    return super(VariableMetaclass, cls).__call__(*args, **kwargs)\n  File \"/home/tom/anaconda3/envs/tf/lib/python3.6/site-packages/tensorflow/python/ops/variables.py\", line 1395, in __init__\n    constraint=constraint)\n  File \"/home/tom/anaconda3/envs/tf/lib/python3.6/site-packages/tensorflow/python/ops/variables.py\", line 1554, in _init_from_args\n    self._snapshot = array_ops.identity(self._variable, name=\"read\")\n  File \"/home/tom/anaconda3/envs/tf/lib/python3.6/site-packages/tensorflow/python/util/dispatch.py\", line 180, in wrapper\n    return target(*args, **kwargs)\n  File \"/home/tom/anaconda3/envs/tf/lib/python3.6/site-packages/tensorflow/python/ops/array_ops.py\", line 81, in identity\n    ret = gen_array_ops.identity(input, name=name)\n  File \"/home/tom/anaconda3/envs/tf/lib/python3.6/site-packages/tensorflow/python/ops/gen_array_ops.py\", line 3890, in identity\n    \"Identity\", input=input, name=name)\n  File \"/home/tom/anaconda3/envs/tf/lib/python3.6/site-packages/tensorflow/python/framework/op_def_library.py\", line 788, in _apply_op_helper\n    op_def=op_def)\n  File \"/home/tom/anaconda3/envs/tf/lib/python3.6/site-packages/tensorflow/python/util/deprecation.py\", line 507, in new_func\n    return func(*args, **kwargs)\n  File \"/home/tom/anaconda3/envs/tf/lib/python3.6/site-packages/tensorflow/python/framework/ops.py\", line 3300, in create_op\n    op_def=op_def)\n  File \"/home/tom/anaconda3/envs/tf/lib/python3.6/site-packages/tensorflow/python/framework/ops.py\", line 1801, in __init__\n    self._traceback = tf_stack.extract_stack()\n\nFailedPreconditionError (see above for traceback): Attempting to use uninitialized value rnn/output_projection_wrapper/bias\n\t [[node rnn/output_projection_wrapper/bias/read (defined at <ipython-input-89-fe0f437cc1a2>:18) ]]\n\t [[node rnn/transpose_1 (defined at <ipython-input-89-fe0f437cc1a2>:18) ]]\n"
     ]
    }
   ],
   "source": [
    "with tf.Session() as sess:\n",
    "    sequence = [0.]*n_steps\n",
    "    for iteration in range(300):\n",
    "        X_batch = np.array(sequence[-n_steps:]).reshape(1, n_steps, 1)\n",
    "        y_pred = sess.run(outputs, feed_dict={X:X_batch})\n",
    "        sequence.append(y_pred[0, -1, 0])"
   ]
  },
  {
   "cell_type": "code",
   "execution_count": 83,
   "metadata": {},
   "outputs": [
    {
     "data": {
      "text/plain": [
       "[0.0,\n",
       " 0.0,\n",
       " 0.0,\n",
       " 0.0,\n",
       " 0.0,\n",
       " 0.0,\n",
       " 0.0,\n",
       " 0.0,\n",
       " 0.0,\n",
       " 0.0,\n",
       " 0.0,\n",
       " 0.0,\n",
       " 0.0,\n",
       " 0.0,\n",
       " 0.0,\n",
       " 0.0,\n",
       " 0.0,\n",
       " 0.0,\n",
       " 0.0,\n",
       " 0.0]"
      ]
     },
     "execution_count": 83,
     "metadata": {},
     "output_type": "execute_result"
    }
   ],
   "source": [
    "sequence"
   ]
  },
  {
   "cell_type": "code",
   "execution_count": 85,
   "metadata": {},
   "outputs": [
    {
     "data": {
      "text/plain": [
       "array([[[0.],\n",
       "        [0.],\n",
       "        [0.],\n",
       "        [0.],\n",
       "        [0.],\n",
       "        [0.],\n",
       "        [0.],\n",
       "        [0.],\n",
       "        [0.],\n",
       "        [0.],\n",
       "        [0.],\n",
       "        [0.],\n",
       "        [0.],\n",
       "        [0.],\n",
       "        [0.],\n",
       "        [0.],\n",
       "        [0.],\n",
       "        [0.],\n",
       "        [0.],\n",
       "        [0.]]])"
      ]
     },
     "execution_count": 85,
     "metadata": {},
     "output_type": "execute_result"
    }
   ],
   "source": [
    "X_batch"
   ]
  },
  {
   "cell_type": "code",
   "execution_count": null,
   "metadata": {},
   "outputs": [],
   "source": []
  }
 ],
 "metadata": {
  "kernelspec": {
   "display_name": "Python 3",
   "language": "python",
   "name": "python3"
  },
  "language_info": {
   "codemirror_mode": {
    "name": "ipython",
    "version": 3
   },
   "file_extension": ".py",
   "mimetype": "text/x-python",
   "name": "python",
   "nbconvert_exporter": "python",
   "pygments_lexer": "ipython3",
   "version": "3.6.8"
  }
 },
 "nbformat": 4,
 "nbformat_minor": 2
}
